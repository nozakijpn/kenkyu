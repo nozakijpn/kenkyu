{
  "nbformat": 4,
  "nbformat_minor": 0,
  "metadata": {
    "colab": {
      "name": "DNCNN_for_audio.ipynb",
      "version": "0.3.2",
      "provenance": [],
      "collapsed_sections": [],
      "include_colab_link": true
    },
    "kernelspec": {
      "name": "python2",
      "display_name": "Python 2"
    },
    "accelerator": "GPU"
  },
  "cells": [
    {
      "cell_type": "markdown",
      "metadata": {
        "id": "view-in-github",
        "colab_type": "text"
      },
      "source": [
        "[View in Colaboratory](https://colab.research.google.com/github/nozakijpn/kenkyu/blob/master/DNCNN_for_audio.ipynb)"
      ]
    },
    {
      "metadata": {
        "id": "v8cnrj-b8-Mw",
        "colab_type": "text"
      },
      "cell_type": "markdown",
      "source": [
        "# DeNoising Convolutional Neural Network for Cifar dataset"
      ]
    },
    {
      "metadata": {
        "id": "p7xjYuB8sCgb",
        "colab_type": "code",
        "colab": {
          "base_uri": "https://localhost:8080/",
          "height": 74
        },
        "outputId": "109734d0-a2de-412f-e1be-e3ade4d43823"
      },
      "cell_type": "code",
      "source": [
        "\n",
        "!apt-get install -y -qq software-properties-common python-software-properties module-init-tools\n",
        "!add-apt-repository -y ppa:alessandro-strada/ppa 2>&1 > /dev/null\n",
        "!apt-get update -qq 2>&1 > /dev/null\n",
        "!apt-get -y install -qq google-drive-ocamlfuse fuse\n",
        "\n",
        "from google.colab import auth\n",
        "auth.authenticate_user()\n",
        "from oauth2client.client import GoogleCredentials\n",
        "creds = GoogleCredentials.get_application_default()\n",
        "\n",
        "import getpass\n",
        "!google-drive-ocamlfuse -headless -id={creds.client_id} -secret={creds.client_secret} < /dev/null 2>&1 | grep URL\n",
        "vcode = getpass.getpass()\n",
        "!echo {vcode} | google-drive-ocamlfuse -headless -id={creds.client_id} -secret={creds.client_secret}\n",
        "\n",
        "!mkdir -p drive\n",
        "!google-drive-ocamlfuse drive\n",
        "!ls drive\n"
      ],
      "execution_count": 5,
      "outputs": [
        {
          "output_type": "execute_result",
          "data": {
            "text/plain": [
              "'\\n!apt-get install -y -qq software-properties-common python-software-properties module-init-tools\\n!add-apt-repository -y ppa:alessandro-strada/ppa 2>&1 > /dev/null\\n!apt-get update -qq 2>&1 > /dev/null\\n!apt-get -y install -qq google-drive-ocamlfuse fuse\\n\\nfrom google.colab import auth\\nauth.authenticate_user()\\nfrom oauth2client.client import GoogleCredentials\\ncreds = GoogleCredentials.get_application_default()\\n\\nimport getpass\\n!google-drive-ocamlfuse -headless -id={creds.client_id} -secret={creds.client_secret} < /dev/null 2>&1 | grep URL\\nvcode = getpass.getpass()\\n!echo {vcode} | google-drive-ocamlfuse -headless -id={creds.client_id} -secret={creds.client_secret}\\n\\n!mkdir -p drive\\n!google-drive-ocamlfuse drive\\n!ls drive\\n'"
            ]
          },
          "metadata": {
            "tags": []
          },
          "execution_count": 5
        }
      ]
    },
    {
      "metadata": {
        "id": "KG0soFPJskfs",
        "colab_type": "code",
        "colab": {
          "base_uri": "https://localhost:8080/",
          "height": 34
        },
        "outputId": "acad2f3c-5c8b-4f19-da95-f65a6f2ee5f6"
      },
      "cell_type": "code",
      "source": [
        "%cd /content/drive/study/news"
      ],
      "execution_count": 116,
      "outputs": [
        {
          "output_type": "stream",
          "text": [
            "/content/drive/study/news\n"
          ],
          "name": "stdout"
        }
      ]
    },
    {
      "metadata": {
        "id": "3lLrbLW1tEf8",
        "colab_type": "code",
        "colab": {
          "base_uri": "https://localhost:8080/",
          "height": 286
        },
        "outputId": "7200febd-a896-4679-fbed-c16c3884bf33"
      },
      "cell_type": "code",
      "source": [
        "!pip install librosa"
      ],
      "execution_count": 117,
      "outputs": [
        {
          "output_type": "stream",
          "text": [
            "Requirement already satisfied: librosa in /usr/local/lib/python2.7/dist-packages (0.6.2)\n",
            "Requirement already satisfied: decorator>=3.0.0 in /usr/local/lib/python2.7/dist-packages (from librosa) (4.3.0)\n",
            "Requirement already satisfied: joblib>=0.12 in /usr/local/lib/python2.7/dist-packages (from librosa) (0.12.5)\n",
            "Requirement already satisfied: audioread>=2.0.0 in /usr/local/lib/python2.7/dist-packages (from librosa) (2.1.6)\n",
            "Requirement already satisfied: numba>=0.38.0 in /usr/local/lib/python2.7/dist-packages (from librosa) (0.39.0)\n",
            "Requirement already satisfied: scikit-learn!=0.19.0,>=0.14.0 in /usr/local/lib/python2.7/dist-packages (from librosa) (0.19.2)\n",
            "Requirement already satisfied: resampy>=0.2.0 in /usr/local/lib/python2.7/dist-packages (from librosa) (0.2.1)\n",
            "Requirement already satisfied: numpy>=1.8.0 in /usr/local/lib/python2.7/dist-packages (from librosa) (1.14.5)\n",
            "Requirement already satisfied: scipy>=0.14.0 in /usr/local/lib/python2.7/dist-packages (from librosa) (0.19.1)\n",
            "Requirement already satisfied: six>=1.3 in /usr/local/lib/python2.7/dist-packages (from librosa) (1.11.0)\n",
            "Requirement already satisfied: llvmlite>=0.24.0dev0 in /usr/local/lib/python2.7/dist-packages (from numba>=0.38.0->librosa) (0.24.0)\n",
            "Requirement already satisfied: singledispatch in /usr/local/lib/python2.7/dist-packages (from numba>=0.38.0->librosa) (3.4.0.3)\n",
            "Requirement already satisfied: funcsigs in /usr/local/lib/python2.7/dist-packages (from numba>=0.38.0->librosa) (1.0.2)\n",
            "Requirement already satisfied: enum34 in /usr/local/lib/python2.7/dist-packages (from numba>=0.38.0->librosa) (1.1.6)\n"
          ],
          "name": "stdout"
        }
      ]
    },
    {
      "metadata": {
        "id": "gPGwd7VmR8Tm",
        "colab_type": "code",
        "colab": {
          "base_uri": "https://localhost:8080/",
          "height": 74
        },
        "outputId": "03f55855-0c9c-4f68-91e8-efa8b57d327b"
      },
      "cell_type": "code",
      "source": [
        "import glob\n",
        "filelist = glob.glob(\"NHK0826*.wav\")\n",
        "print(filelist)"
      ],
      "execution_count": 118,
      "outputs": [
        {
          "output_type": "stream",
          "text": [
            "['NHK0826_0072.wav', 'NHK0826_0079.wav', 'NHK0826_0069.wav', 'NHK0826_0078.wav', 'NHK0826_0085.wav', 'NHK0826_0070.wav', 'NHK0826_0083.wav', 'NHK0826_0074.wav', 'NHK0826_0073.wav', 'NHK0826_0041.wav', 'NHK0826_0087.wav', 'NHK0826_0088.wav', 'NHK0826_0090.wav', 'NHK0826_0059.wav', 'NHK0826_0096.wav', 'NHK0826_0099.wav', 'NHK0826_0089.wav', 'NHK0826_0097.wav', 'NHK0826_0095.wav', 'NHK0826_0091.wav', 'NHK0826_0093.wav', 'NHK0826_0098.wav', 'NHK0826_0060.wav', 'NHK0826_0100.wav', 'NHK0826_0092.wav', 'NHK0826_0101.wav', 'NHK0826_0064.wav', 'NHK0826_0105.wav', 'NHK0826_0111.wav', 'NHK0826_0104.wav', 'NHK0826_0110.wav', 'NHK0826_0071.wav', 'NHK0826_0112.wav', 'NHK0826_0109.wav', 'NHK0826_0103.wav', 'NHK0826_0102.wav', 'NHK0826_0106.wav', 'NHK0826_0107.wav', 'NHK0826_0108.wav', 'NHK0826_0113.wav', 'NHK0826_0075.wav', 'NHK0826_0114.wav', 'NHK0826_0116.wav', 'NHK0826_0117.wav', 'NHK0826_0077.wav', 'NHK0826_0115.wav', 'NHK0826_0119.wav', 'NHK0826_0080.wav', 'NHK0826_0081.wav', 'NHK0826_0082.wav', 'NHK0826_0084.wav', 'NHK0826_0086.wav', 'NHK0826_0094.wav', 'NHK0826_0118.wav', 'NHK0826_0120.wav', 'NHK0826_0003.wav', 'NHK0826_0001.wav', 'NHK0826_0004.wav', 'NHK0826_0005.wav', 'NHK0826_0007.wav', 'NHK0826_0002.wav', 'NHK0826_0006.wav', 'NHK0826_0009.wav', 'NHK0826_0013.wav', 'NHK0826_0012.wav', 'NHK0826_0011.wav', 'NHK0826_0008.wav', 'NHK0826_0018.wav', 'NHK0826_0021.wav', 'NHK0826_0010.wav', 'NHK0826_0022.wav', 'NHK0826_0014.wav', 'NHK0826_0024.wav', 'NHK0826_0023.wav', 'NHK0826_0015.wav', 'NHK0826_0019.wav', 'NHK0826_0017.wav', 'NHK0826_0016.wav', 'NHK0826_0020.wav', 'NHK0826_0031.wav', 'NHK0826_0029.wav', 'NHK0826_0039.wav', 'NHK0826_0027.wav', 'NHK0826_0033.wav', 'NHK0826_0026.wav', 'NHK0826_0025.wav', 'NHK0826_0034.wav', 'NHK0826_0028.wav', 'NHK0826_0035.wav', 'NHK0826_0032.wav', 'NHK0826_0042.wav', 'NHK0826_0030.wav', 'NHK0826_0043.wav', 'NHK0826_0052.wav', 'NHK0826_0051.wav', 'NHK0826_0044.wav', 'NHK0826_0036.wav', 'NHK0826_0046.wav', 'NHK0826_0047.wav', 'NHK0826_0050.wav', 'NHK0826_0048.wav', 'NHK0826_0053.wav', 'NHK0826_0049.wav', 'NHK0826_0045.wav', 'NHK0826_0054.wav', 'NHK0826_0037.wav', 'NHK0826_0067.wav', 'NHK0826_0058.wav', 'NHK0826_0056.wav', 'NHK0826_0061.wav', 'NHK0826_0057.wav', 'NHK0826_0063.wav', 'NHK0826_0038.wav', 'NHK0826_0068.wav', 'NHK0826_0062.wav', 'NHK0826_0065.wav', 'NHK0826_0066.wav', 'NHK0826_0055.wav', 'NHK0826_0076.wav', 'NHK0826_0040.wav']\n"
          ],
          "name": "stdout"
        }
      ]
    },
    {
      "metadata": {
        "id": "mh8c0fvdVnz_",
        "colab_type": "text"
      },
      "cell_type": "markdown",
      "source": [
        "globでデータのリストをとってきて、スペクトログラムの配列を作成してみる"
      ]
    },
    {
      "metadata": {
        "id": "3ZwCtZERSX5s",
        "colab_type": "code",
        "colab": {}
      },
      "cell_type": "code",
      "source": [
        "import wave\n",
        "import numpy as np\n",
        "import cmath as cm\n",
        "import matplotlib.pyplot as plt\n",
        "import scipy\n",
        "import librosa\n",
        "import librosa.display\n",
        "# 波形データ読み込み\n",
        "path = \"NHK0826_0008.wav\"\n",
        "#path = \"/home/nozaki/TX0528.wav\"\n",
        "#sample_rate, sound = scipy.io.wavfile.read(librosa.util.example_audio_file())\n",
        "for i,item in enumerate(filelist):\n",
        "  sound,sample_rate = librosa.load(item,sr=44100)\n",
        "  \"\"\"\"\n",
        "  \n",
        "  print(\"sample rate {}\".format(sample_rate))\n",
        "  second = sound.shape[0]/sample_rate\n",
        "  minute = int(second/60)\n",
        "  print(\"{0}分{1}秒\".format(minute,int(second%60)))\n",
        "  \"\"\"\n",
        "  window_size = 0.2\n",
        "  window_stride = 0.1\n",
        "  n_fft = int(sample_rate * window_size)\n",
        "  win_length = n_fft\n",
        "  hop_length = int(sample_rate * window_stride)\n",
        "  # 短時間フーリエ変換\n",
        "  #D = librosa.stft(sound, n_fft=n_fft, hop_length=hop_length,win_length=win_length)\n",
        "  D = librosa.stft(sound)\n",
        "  if(i > 0):\n",
        "    D_sub = np.hstack((D,D_sub))\n",
        "    #print(D.shape,D_sub.shape)\n",
        "  else:\n",
        "    D_sub = D"
      ],
      "execution_count": 0,
      "outputs": []
    },
    {
      "metadata": {
        "id": "QEwkgNUDt1Fj",
        "colab_type": "code",
        "colab": {
          "base_uri": "https://localhost:8080/",
          "height": 68
        },
        "outputId": "25c32ee2-473b-48ea-a251-e7223d10e962"
      },
      "cell_type": "code",
      "source": [
        "print(D.shape)\n",
        "print(np.min(D_sub),np.max(D_sub))\n",
        "print(D_sub.shape)"
      ],
      "execution_count": 120,
      "outputs": [
        {
          "output_type": "stream",
          "text": [
            "(1025, 3324)\n",
            "((-72.46452+28.665735j), (70.16213-13.621045j))\n",
            "(1025, 140703)\n"
          ],
          "name": "stdout"
        }
      ]
    },
    {
      "metadata": {
        "id": "RjtZ73MCkKRJ",
        "colab_type": "code",
        "colab": {}
      },
      "cell_type": "code",
      "source": [
        "import numpy as np\n",
        "def min_max(x, axis=None):\n",
        "    min = x.min(axis=axis, keepdims=True)\n",
        "    max = x.max(axis=axis, keepdims=True)\n",
        "    result = (x-min)/(max-min)\n",
        "    return result"
      ],
      "execution_count": 0,
      "outputs": []
    },
    {
      "metadata": {
        "id": "0rG0_o3UkmaZ",
        "colab_type": "code",
        "colab": {
          "base_uri": "https://localhost:8080/",
          "height": 34
        },
        "outputId": "0f6369ee-cd7d-4edd-b544-626e975c6901"
      },
      "cell_type": "code",
      "source": [
        "D1 = min_max(D)\n",
        "print(D1.shape)"
      ],
      "execution_count": 122,
      "outputs": [
        {
          "output_type": "stream",
          "text": [
            "(1025, 3324)\n"
          ],
          "name": "stdout"
        }
      ]
    },
    {
      "metadata": {
        "id": "fYkpvsjelsCB",
        "colab_type": "code",
        "colab": {
          "base_uri": "https://localhost:8080/",
          "height": 34
        },
        "outputId": "38afca6c-f23e-483f-efba-29c1bbc6e4a8"
      },
      "cell_type": "code",
      "source": [
        "print(D_sub.shape)"
      ],
      "execution_count": 123,
      "outputs": [
        {
          "output_type": "stream",
          "text": [
            "(1025, 140703)\n"
          ],
          "name": "stdout"
        }
      ]
    },
    {
      "metadata": {
        "id": "Li4K0nguj5h9",
        "colab_type": "code",
        "colab": {
          "base_uri": "https://localhost:8080/",
          "height": 68
        },
        "outputId": "57918146-25bc-4827-e8bb-0200a3bac9fa"
      },
      "cell_type": "code",
      "source": [
        "#D_sub1 = min_max(D_sub)\n",
        "D_sub1 = D_sub\n",
        "D_sub1 = D_sub1.transpose(1,0)\n",
        "print(D_sub1.shape)\n",
        "cut = int(9*D_sub1.shape[0]/10)\n",
        "x_train , x_test = np.split(D_sub1, [cut],axis=0)\n",
        "x_train = np.reshape(x_train,(x_train.shape[0],x_train.shape[1]/5,5,1))\n",
        "x_test = np.reshape(x_test,(x_test.shape[0],x_test.shape[1]/5,5,1))\n",
        "print(x_train.shape)\n",
        "print(x_test.shape)"
      ],
      "execution_count": 124,
      "outputs": [
        {
          "output_type": "stream",
          "text": [
            "(140703, 1025)\n",
            "(126632, 205, 5, 1)\n",
            "(14071, 205, 5, 1)\n"
          ],
          "name": "stdout"
        }
      ]
    },
    {
      "metadata": {
        "id": "WUjRuzVK02bC",
        "colab_type": "code",
        "colab": {
          "base_uri": "https://localhost:8080/",
          "height": 252
        },
        "outputId": "768bda04-d1d7-4178-c1fb-c168c90951d0"
      },
      "cell_type": "code",
      "source": [
        "!pip install keras\n",
        "!pip install torch\n",
        "!pip install torchvision"
      ],
      "execution_count": 125,
      "outputs": [
        {
          "output_type": "stream",
          "text": [
            "Requirement already satisfied: keras in /usr/local/lib/python2.7/dist-packages (2.1.6)\n",
            "Requirement already satisfied: h5py in /usr/local/lib/python2.7/dist-packages (from keras) (2.8.0)\n",
            "Requirement already satisfied: pyyaml in /usr/local/lib/python2.7/dist-packages (from keras) (3.13)\n",
            "Requirement already satisfied: six>=1.9.0 in /usr/local/lib/python2.7/dist-packages (from keras) (1.11.0)\n",
            "Requirement already satisfied: numpy>=1.9.1 in /usr/local/lib/python2.7/dist-packages (from keras) (1.14.5)\n",
            "Requirement already satisfied: scipy>=0.14 in /usr/local/lib/python2.7/dist-packages (from keras) (0.19.1)\n",
            "Requirement already satisfied: torch in /usr/local/lib/python2.7/dist-packages (0.4.1)\n",
            "Requirement already satisfied: torchvision in /usr/local/lib/python2.7/dist-packages (0.2.1)\n",
            "Requirement already satisfied: six in /usr/local/lib/python2.7/dist-packages (from torchvision) (1.11.0)\n",
            "Requirement already satisfied: numpy in /usr/local/lib/python2.7/dist-packages (from torchvision) (1.14.5)\n",
            "Requirement already satisfied: torch in /usr/local/lib/python2.7/dist-packages (from torchvision) (0.4.1)\n",
            "Requirement already satisfied: pillow>=4.1.1 in /usr/local/lib/python2.7/dist-packages (from torchvision) (5.2.0)\n"
          ],
          "name": "stdout"
        }
      ]
    },
    {
      "metadata": {
        "id": "vu70BkQu8-Mx",
        "colab_type": "text"
      },
      "cell_type": "markdown",
      "source": [
        "## Backend and Import"
      ]
    },
    {
      "metadata": {
        "id": "OuM0CM7V8-Mz",
        "colab_type": "code",
        "colab": {
          "base_uri": "https://localhost:8080/",
          "height": 34
        },
        "outputId": "eddd9130-31f4-4419-f9a4-c3beabf84058"
      },
      "cell_type": "code",
      "source": [
        "import os\n",
        "os.environ[\"KERAS_BACKEND\"] = \"tensorflow\"\n",
        "kerasBKED = os.environ[\"KERAS_BACKEND\"] \n",
        "print(kerasBKED)"
      ],
      "execution_count": 126,
      "outputs": [
        {
          "output_type": "stream",
          "text": [
            "tensorflow\n"
          ],
          "name": "stdout"
        }
      ]
    },
    {
      "metadata": {
        "id": "1MY8fCWq8-M4",
        "colab_type": "code",
        "colab": {}
      },
      "cell_type": "code",
      "source": [
        "import keras\n",
        "from keras.models import load_model\n",
        "from keras.datasets import cifar10\n",
        "from keras.layers import Input, Dense, Conv2D, MaxPooling2D, UpSampling2D, BatchNormalization, Activation\n",
        "from keras.models import Model\n",
        "from keras.callbacks import EarlyStopping, ModelCheckpoint\n",
        "from keras.optimizers import Adam\n",
        "import os\n",
        "import pickle\n",
        "import numpy as np"
      ],
      "execution_count": 0,
      "outputs": []
    },
    {
      "metadata": {
        "id": "gTZ3_cgmW0ob",
        "colab_type": "code",
        "colab": {}
      },
      "cell_type": "code",
      "source": [
        "import torch \n",
        "import torch.nn as nn\n",
        "import torchvision\n",
        "import torchvision.transforms as transforms"
      ],
      "execution_count": 0,
      "outputs": []
    },
    {
      "metadata": {
        "id": "5kBSE-9H8-M7",
        "colab_type": "text"
      },
      "cell_type": "markdown",
      "source": [
        "## Load Cifar10 dataset"
      ]
    },
    {
      "metadata": {
        "id": "Y-MUxW4b8-M8",
        "colab_type": "code",
        "colab": {}
      },
      "cell_type": "code",
      "source": [
        "batch_size = 100\n",
        "epochs = 10\n",
        "saveDir = \"./\"\n",
        "if not os.path.isdir(saveDir):\n",
        "    os.makedirs(saveDir)"
      ],
      "execution_count": 0,
      "outputs": []
    },
    {
      "metadata": {
        "id": "Z9lcxnd2o6IU",
        "colab_type": "code",
        "colab": {}
      },
      "cell_type": "code",
      "source": [
        "x_train_line = np.copy(x_train)\n",
        "x_test_line = np.copy(x_test)\n",
        "#x_train_line = drawLines(x_train_line)\n",
        "#x_test_line = drawLines(x_test_line)"
      ],
      "execution_count": 0,
      "outputs": []
    },
    {
      "metadata": {
        "id": "PkZ4USY98-NH",
        "colab_type": "code",
        "colab": {
          "base_uri": "https://localhost:8080/",
          "height": 34
        },
        "outputId": "96e3d210-5a96-462b-d237-37df9df1b3f5"
      },
      "cell_type": "code",
      "source": [
        "print(x_train_line.shape)"
      ],
      "execution_count": 131,
      "outputs": [
        {
          "output_type": "stream",
          "text": [
            "(126632, 205, 5, 1)\n"
          ],
          "name": "stdout"
        }
      ]
    },
    {
      "metadata": {
        "id": "MVELRHAe8-NN",
        "colab_type": "text"
      },
      "cell_type": "markdown",
      "source": [
        "## normalize data"
      ]
    },
    {
      "metadata": {
        "id": "81MDMbGj8-NO",
        "colab_type": "code",
        "colab": {
          "base_uri": "https://localhost:8080/",
          "height": 153
        },
        "outputId": "6c31419a-3037-4ab8-80d0-c6e53128aca4"
      },
      "cell_type": "code",
      "source": [
        "# normalize data\n",
        "x_train = x_train.astype('float32')\n",
        "x_test = x_test.astype('float32')\n",
        "#x_train /= 255\n",
        "#x_test /= 255\n",
        "\n",
        "# normalize data\n",
        "x_train_line = x_train_line.astype('float32')\n",
        "x_test_line = x_test_line.astype('float32')\n",
        "#x_train_line /= 255\n",
        "#x_test_line /= 255"
      ],
      "execution_count": 132,
      "outputs": [
        {
          "output_type": "stream",
          "text": [
            "/usr/local/lib/python2.7/dist-packages/ipykernel_launcher.py:1: ComplexWarning: Casting complex values to real discards the imaginary part\n",
            "  \"\"\"Entry point for launching an IPython kernel.\n",
            "/usr/local/lib/python2.7/dist-packages/ipykernel_launcher.py:2: ComplexWarning: Casting complex values to real discards the imaginary part\n",
            "  \n",
            "/usr/local/lib/python2.7/dist-packages/ipykernel_launcher.py:7: ComplexWarning: Casting complex values to real discards the imaginary part\n",
            "  import sys\n",
            "/usr/local/lib/python2.7/dist-packages/ipykernel_launcher.py:8: ComplexWarning: Casting complex values to real discards the imaginary part\n",
            "  \n"
          ],
          "name": "stderr"
        }
      ]
    },
    {
      "metadata": {
        "id": "IMWoXTs68-NR",
        "colab_type": "code",
        "colab": {
          "base_uri": "https://localhost:8080/",
          "height": 68
        },
        "outputId": "e17e2f00-6fd5-48bf-9039-8da785464c9d"
      },
      "cell_type": "code",
      "source": [
        "print('x_train shape:', x_train.shape)\n",
        "print(x_train.shape[0], 'train samples')\n",
        "print(x_test.shape[0], 'test samples')"
      ],
      "execution_count": 133,
      "outputs": [
        {
          "output_type": "stream",
          "text": [
            "('x_train shape:', (126632, 205, 5, 1))\n",
            "(126632, 'train samples')\n",
            "(14071, 'test samples')\n"
          ],
          "name": "stdout"
        }
      ]
    },
    {
      "metadata": {
        "id": "q7m0lhC68-Na",
        "colab_type": "text"
      },
      "cell_type": "markdown",
      "source": [
        "## show noisy images"
      ]
    },
    {
      "metadata": {
        "id": "6LP2mfIl8-Nu",
        "colab_type": "text"
      },
      "cell_type": "markdown",
      "source": [
        "## DNCNN"
      ]
    },
    {
      "metadata": {
        "id": "9M5wm6vA8-Nv",
        "colab_type": "code",
        "colab": {}
      },
      "cell_type": "code",
      "source": [
        "input_img = Input(shape=(x_train.shape[1], 5, 1))\n",
        "x = Conv2D(64, (3,3), padding='same')(input_img)\n",
        "x = Activation('relu')(x)\n",
        "\n",
        "for i in range(15):\n",
        "    x = Conv2D(64, (3,3), padding='same')(x)\n",
        "    x = BatchNormalization()(x)\n",
        "    x = Activation('relu')(x)\n",
        "\n",
        "x = Conv2D(1, (3,3), padding='same')(x)\n",
        "output_img = Activation('tanh')(x)"
      ],
      "execution_count": 0,
      "outputs": []
    },
    {
      "metadata": {
        "id": "1iQvJTC18-Nx",
        "colab_type": "code",
        "colab": {}
      },
      "cell_type": "code",
      "source": [
        "model = Model(input_img, output_img)\n",
        "model.compile(optimizer='adam', loss='mean_squared_error')\n"
      ],
      "execution_count": 0,
      "outputs": []
    },
    {
      "metadata": {
        "id": "FLva7UkU8-Nz",
        "colab_type": "text"
      },
      "cell_type": "markdown",
      "source": [
        "## Train CNN"
      ]
    },
    {
      "metadata": {
        "id": "5H-VZW2b8-N0",
        "colab_type": "code",
        "colab": {}
      },
      "cell_type": "code",
      "source": [
        "# load pretrained weights\n",
        "#model.load_weights(saveDir + \"AutoEncoder_Cifar10_dncnn_weights.02-0.00-0.00.hdf5\")"
      ],
      "execution_count": 0,
      "outputs": []
    },
    {
      "metadata": {
        "id": "fZ9kTCiw8-N2",
        "colab_type": "code",
        "colab": {}
      },
      "cell_type": "code",
      "source": [
        "es_cb = EarlyStopping(monitor='val_loss', patience=2, verbose=1, mode='auto')\n",
        "chkpt = saveDir + 'AutoEncoder_Cifar10_dncnn_weights.{epoch:02d}-{loss:.2f}-{val_loss:.2f}.hdf5'\n",
        "cp_cb = ModelCheckpoint(filepath = chkpt, monitor='val_loss', verbose=1, save_best_only=True, mode='auto')"
      ],
      "execution_count": 0,
      "outputs": []
    },
    {
      "metadata": {
        "id": "iSknW1Yr8-N4",
        "colab_type": "code",
        "colab": {}
      },
      "cell_type": "code",
      "source": [
        "history = model.fit(x_train_line, x_train,\n",
        "                    batch_size=batch_size,\n",
        "                    epochs=epochs,\n",
        "                    verbose=1,\n",
        "                    validation_data=(x_test_line, x_test),\n",
        "                    callbacks=[es_cb, cp_cb],\n",
        "                    shuffle=True)"
      ],
      "execution_count": 0,
      "outputs": []
    },
    {
      "metadata": {
        "id": "syGd1we52QGf",
        "colab_type": "code",
        "colab": {}
      },
      "cell_type": "code",
      "source": [
        "#model.load_weights('./AutoEncoder_Cifar10_dncnn_weights.01-0.00-0.00.hdf5')"
      ],
      "execution_count": 0,
      "outputs": []
    },
    {
      "metadata": {
        "id": "mzbX1BL28-N6",
        "colab_type": "text"
      },
      "cell_type": "markdown",
      "source": [
        "## Evaluate with test dataset"
      ]
    },
    {
      "metadata": {
        "id": "ibWTVnV18-N7",
        "colab_type": "code",
        "colab": {
          "base_uri": "https://localhost:8080/",
          "height": 51
        },
        "outputId": "853c7b2e-8615-4fe4-ae65-650736e6b9f7"
      },
      "cell_type": "code",
      "source": [
        "score = model.evaluate(x_test_line, x_test, verbose=1)\n",
        "print(score)"
      ],
      "execution_count": 89,
      "outputs": [
        {
          "output_type": "stream",
          "text": [
            "6400/6400 [==============================] - 46s 7ms/step\n",
            "0.7707107844948768\n"
          ],
          "name": "stdout"
        }
      ]
    },
    {
      "metadata": {
        "id": "MRZWS83q8-N-",
        "colab_type": "code",
        "colab": {}
      },
      "cell_type": "code",
      "source": [
        "pred = model.predict(x_test_line)"
      ],
      "execution_count": 0,
      "outputs": []
    },
    {
      "metadata": {
        "id": "pXKDwLq28-OB",
        "colab_type": "code",
        "colab": {
          "base_uri": "https://localhost:8080/",
          "height": 51
        },
        "outputId": "13a3894d-1e2c-4fbd-d788-44d0284b2161"
      },
      "cell_type": "code",
      "source": [
        "print(x_test_line.shape)\n",
        "print(pred.shape)"
      ],
      "execution_count": 91,
      "outputs": [
        {
          "output_type": "stream",
          "text": [
            "(6400, 4411, 1, 1)\n",
            "(6400, 4411, 1, 1)\n"
          ],
          "name": "stdout"
        }
      ]
    },
    {
      "metadata": {
        "id": "IYgQwLuo8-OE",
        "colab_type": "text"
      },
      "cell_type": "markdown",
      "source": [
        "## Visualize original image, noisy image and denoised image"
      ]
    },
    {
      "metadata": {
        "id": "SUQpS7pUxues",
        "colab_type": "text"
      },
      "cell_type": "markdown",
      "source": [
        "音声の復元メソッド"
      ]
    },
    {
      "metadata": {
        "id": "ju3rKKvlm0-z",
        "colab_type": "code",
        "colab": {}
      },
      "cell_type": "code",
      "source": [
        "#y = librosa.istft(D,hop_length=hop_length,win_length=win_length)\n",
        "#y = librosa.istft(D)\n",
        "#librosa.output.write_wav(\"test1.wav\",y,44100)"
      ],
      "execution_count": 0,
      "outputs": []
    }
  ]
}